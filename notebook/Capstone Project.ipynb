{
 "cells": [
  {
   "cell_type": "code",
   "execution_count": null,
   "id": "16ef12f2",
   "metadata": {},
   "outputs": [],
   "source": [
    "import requests\n",
    "import pandas as pd\n",
    "import numpy as np\n",
    "from bs4 import BeautifulSoup as BS"
   ]
  },
  {
   "cell_type": "markdown",
   "id": "c9fb1734",
   "metadata": {},
   "source": [
    "### Webscrape for income by state"
   ]
  },
  {
   "cell_type": "code",
   "execution_count": null,
   "id": "0b0bb250",
   "metadata": {},
   "outputs": [],
   "source": [
    "URL = 'https://en.wikipedia.org/wiki/List_of_U.S._states_and_territories_by_income'\n",
    "\n",
    "response = requests.get(URL)"
   ]
  },
  {
   "cell_type": "code",
   "execution_count": null,
   "id": "24f88f70",
   "metadata": {},
   "outputs": [],
   "source": [
    "type(response)"
   ]
  },
  {
   "cell_type": "code",
   "execution_count": null,
   "id": "b3cdb423",
   "metadata": {},
   "outputs": [],
   "source": [
    "response.status_code"
   ]
  },
  {
   "cell_type": "code",
   "execution_count": null,
   "id": "3ea4a344",
   "metadata": {},
   "outputs": [],
   "source": [
    "response.text"
   ]
  },
  {
   "cell_type": "code",
   "execution_count": null,
   "id": "0ee3f59d",
   "metadata": {},
   "outputs": [],
   "source": [
    "from bs4 import BeautifulSoup as BS"
   ]
  },
  {
   "cell_type": "code",
   "execution_count": null,
   "id": "6ca0d387",
   "metadata": {},
   "outputs": [],
   "source": [
    "soup = BS(response.text)"
   ]
  },
  {
   "cell_type": "code",
   "execution_count": null,
   "id": "0882e5cd",
   "metadata": {},
   "outputs": [],
   "source": [
    "soup"
   ]
  },
  {
   "cell_type": "code",
   "execution_count": null,
   "id": "b49091ff",
   "metadata": {},
   "outputs": [],
   "source": [
    "print(soup.prettify())"
   ]
  },
  {
   "cell_type": "code",
   "execution_count": null,
   "id": "c2e13413",
   "metadata": {},
   "outputs": [],
   "source": [
    "soup.find('table', attrs={'class' : 'wikitable'})"
   ]
  },
  {
   "cell_type": "code",
   "execution_count": null,
   "id": "193ca5b1",
   "metadata": {},
   "outputs": [],
   "source": [
    "table_html = str(soup.find('table', attrs={'class' : 'wikitable'}))\n",
    "\n",
    "from IPython.core.display import HTML\n",
    "\n",
    "HTML(table_html)"
   ]
  },
  {
   "cell_type": "code",
   "execution_count": null,
   "id": "2ef0ba6c",
   "metadata": {},
   "outputs": [],
   "source": [
    "median_state_income = pd.read_html(str(soup.find('table', attrs={'class' : 'wikitable'})))[0]"
   ]
  },
  {
   "cell_type": "code",
   "execution_count": null,
   "id": "865fc3ad",
   "metadata": {},
   "outputs": [],
   "source": [
    "median_state_income"
   ]
  },
  {
   "cell_type": "code",
   "execution_count": null,
   "id": "12512bd3",
   "metadata": {},
   "outputs": [],
   "source": [
    "median_state_income.to_csv('median_state_income.csv')"
   ]
  },
  {
   "cell_type": "markdown",
   "id": "bf9ee876",
   "metadata": {},
   "source": [
    "### Importing cesarean section data for state and country"
   ]
  },
  {
   "cell_type": "code",
   "execution_count": null,
   "id": "466c491f",
   "metadata": {},
   "outputs": [],
   "source": [
    "c_sections_by_country = pd.read_csv('../data/c_sections_by_country.csv')"
   ]
  },
  {
   "cell_type": "code",
   "execution_count": null,
   "id": "31e37b3a",
   "metadata": {},
   "outputs": [],
   "source": [
    "c_sections_by_country"
   ]
  },
  {
   "cell_type": "code",
   "execution_count": null,
   "id": "d788e01c",
   "metadata": {},
   "outputs": [],
   "source": [
    "c_sections_by_state_basic = pd.read_csv('../data/c_sections_by_state_basic.csv')"
   ]
  },
  {
   "cell_type": "code",
   "execution_count": null,
   "id": "2c3b2ce7",
   "metadata": {},
   "outputs": [],
   "source": [
    "c_sections_by_state_basic"
   ]
  },
  {
   "cell_type": "code",
   "execution_count": null,
   "id": "d5e7c77f",
   "metadata": {},
   "outputs": [],
   "source": [
    "c_sections_by_state_basic = c_sections_by_state_basic.drop(columns='YEAR')"
   ]
  },
  {
   "cell_type": "code",
   "execution_count": null,
   "id": "a7be2045",
   "metadata": {},
   "outputs": [],
   "source": [
    "c_sections_by_state_basic"
   ]
  },
  {
   "cell_type": "markdown",
   "id": "19fa1e92",
   "metadata": {},
   "source": [
    "### Importing state racial data"
   ]
  },
  {
   "cell_type": "code",
   "execution_count": null,
   "id": "4ed96914",
   "metadata": {},
   "outputs": [],
   "source": [
    "race_by_state = pd.read_csv('../data/race_by_state.csv')"
   ]
  },
  {
   "cell_type": "code",
   "execution_count": null,
   "id": "00d11b39",
   "metadata": {},
   "outputs": [],
   "source": [
    "pd.set_option('display.max_rows', None)\n",
    "race_by_state\n",
    "# I need to drop the footnotes from this df, change the NaN to 0 (as total still equals 100% it looks\n",
    "# like they left it blank instead of putting a 0), and take out the years I don't need. "
   ]
  },
  {
   "cell_type": "code",
   "execution_count": null,
   "id": "9624382a",
   "metadata": {},
   "outputs": [],
   "source": [
    "#Dropping the footnotes\n",
    "race_by_state = race_by_state.drop(index=[55,56,57,58,59,60,61,62,63,64,65,66,67,68,69,70,71,72,73])"
   ]
  },
  {
   "cell_type": "code",
   "execution_count": null,
   "id": "3bd80fba",
   "metadata": {},
   "outputs": [],
   "source": [
    "race_by_state"
   ]
  },
  {
   "cell_type": "code",
   "execution_count": null,
   "id": "c5f8f7bf",
   "metadata": {},
   "outputs": [],
   "source": [
    "#Changing the Nan to 0\n",
    "race_by_state = race_by_state.replace(np.nan,0)"
   ]
  },
  {
   "cell_type": "code",
   "execution_count": null,
   "id": "e2bc6804",
   "metadata": {},
   "outputs": [],
   "source": [
    "race_by_state"
   ]
  },
  {
   "cell_type": "code",
   "execution_count": null,
   "id": "5ed29e6b",
   "metadata": {},
   "outputs": [],
   "source": [
    "#Next step, determine what years I am using and drop the columns with years I don't need"
   ]
  },
  {
   "cell_type": "markdown",
   "id": "62c570f4",
   "metadata": {},
   "source": [
    "### Maternal Age (2007-2021)\n",
    "#### Data downloaded was a .txt file so I need to convert it to a CSV in Excel before reading it in"
   ]
  },
  {
   "cell_type": "code",
   "execution_count": null,
   "id": "c8ffea77",
   "metadata": {},
   "outputs": [],
   "source": [
    "maternal_age = pd.read_csv('../data/maternal_age_2007_21.csv')\n",
    "maternal_age"
   ]
  },
  {
   "cell_type": "code",
   "execution_count": null,
   "id": "35e8903e",
   "metadata": {},
   "outputs": [],
   "source": [
    "maternal_age.columns = ['index', '2007', '2008', '2009', '2010', '2011', '2012', '2013', '2014', '2015',\n",
    "                       '2016', '2017', '2018', '2019', '2020', '2021']"
   ]
  },
  {
   "cell_type": "code",
   "execution_count": null,
   "id": "9e49ef62",
   "metadata": {},
   "outputs": [],
   "source": [
    "maternal_age = maternal_age.drop(index=[0])\n",
    "maternal_age = maternal_age.set_index('index')"
   ]
  },
  {
   "cell_type": "code",
   "execution_count": null,
   "id": "31446e6e",
   "metadata": {},
   "outputs": [],
   "source": [
    "maternal_age['numeric_difference'] =  maternal_age['2021'] - maternal_age['2007']"
   ]
  },
  {
   "cell_type": "code",
   "execution_count": null,
   "id": "25cf0c3e",
   "metadata": {},
   "outputs": [],
   "source": [
    "maternal_age['percent_change'] = (maternal_age['numeric_difference'] / maternal_age['2007'])*100"
   ]
  },
  {
   "cell_type": "code",
   "execution_count": null,
   "id": "fd2721e2",
   "metadata": {},
   "outputs": [],
   "source": [
    "maternal_age"
   ]
  },
  {
   "cell_type": "code",
   "execution_count": null,
   "id": "dc6f5805",
   "metadata": {},
   "outputs": [],
   "source": [
    "age_and_dm =  pd.read_csv('../data/age_and_dm.csv')\n",
    "age_and_dm =  age_and_dm.drop(['Delivery Method Code', 'Year Code', 'Age of Mother 10 Code'], axis=1)"
   ]
  },
  {
   "cell_type": "code",
   "execution_count": null,
   "id": "092686db",
   "metadata": {},
   "outputs": [],
   "source": [
    "age_and_dm"
   ]
  },
  {
   "cell_type": "code",
   "execution_count": null,
   "id": "54f03b37",
   "metadata": {},
   "outputs": [],
   "source": [
    "age_and_dm.to_csv()"
   ]
  },
  {
   "cell_type": "code",
   "execution_count": null,
   "id": "e5ad38b4",
   "metadata": {},
   "outputs": [],
   "source": []
  },
  {
   "cell_type": "code",
   "execution_count": null,
   "id": "350781e4",
   "metadata": {},
   "outputs": [],
   "source": []
  },
  {
   "cell_type": "code",
   "execution_count": null,
   "id": "87807dfa",
   "metadata": {},
   "outputs": [],
   "source": []
  }
 ],
 "metadata": {
  "kernelspec": {
   "display_name": "Python 3 (ipykernel)",
   "language": "python",
   "name": "python3"
  },
  "language_info": {
   "codemirror_mode": {
    "name": "ipython",
    "version": 3
   },
   "file_extension": ".py",
   "mimetype": "text/x-python",
   "name": "python",
   "nbconvert_exporter": "python",
   "pygments_lexer": "ipython3",
   "version": "3.9.13"
  }
 },
 "nbformat": 4,
 "nbformat_minor": 5
}
